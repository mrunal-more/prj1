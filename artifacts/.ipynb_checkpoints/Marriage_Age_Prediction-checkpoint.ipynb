{
 "cells": [
  {
   "cell_type": "code",
   "execution_count": 1,
   "id": "9501888f",
   "metadata": {},
   "outputs": [],
   "source": [
    "import pandas as pd\n",
    "\n",
    "from sklearn.preprocessing import LabelEncoder\n",
    "import pandas as pd\n",
    "import numpy as np\n",
    "import seaborn as sns\n",
    "import matplotlib.pyplot as plt \n",
    "\n",
    "from sklearn.model_selection import train_test_split\n",
    "from sklearn.linear_model import LinearRegression\n",
    "from sklearn.neighbors import KNeighborsRegressor\n",
    "from sklearn.metrics import mean_squared_error, mean_absolute_error, r2_score\n",
    "from sklearn.preprocessing import MinMaxScaler, StandardScaler\n",
    "\n",
    "import pickle \n",
    "import json "
   ]
  },
  {
   "cell_type": "code",
   "execution_count": 2,
   "id": "ad2ceb55",
   "metadata": {},
   "outputs": [
    {
     "data": {
      "text/html": [
       "<div>\n",
       "<style scoped>\n",
       "    .dataframe tbody tr th:only-of-type {\n",
       "        vertical-align: middle;\n",
       "    }\n",
       "\n",
       "    .dataframe tbody tr th {\n",
       "        vertical-align: top;\n",
       "    }\n",
       "\n",
       "    .dataframe thead th {\n",
       "        text-align: right;\n",
       "    }\n",
       "</style>\n",
       "<table border=\"1\" class=\"dataframe\">\n",
       "  <thead>\n",
       "    <tr style=\"text-align: right;\">\n",
       "      <th></th>\n",
       "      <th>id</th>\n",
       "      <th>gender</th>\n",
       "      <th>height</th>\n",
       "      <th>religion</th>\n",
       "      <th>caste</th>\n",
       "      <th>mother_tongue</th>\n",
       "      <th>profession</th>\n",
       "      <th>location</th>\n",
       "      <th>country</th>\n",
       "      <th>age_of_marriage</th>\n",
       "    </tr>\n",
       "  </thead>\n",
       "  <tbody>\n",
       "    <tr>\n",
       "      <th>0</th>\n",
       "      <td>1</td>\n",
       "      <td>female</td>\n",
       "      <td>5'4\"</td>\n",
       "      <td>NaN</td>\n",
       "      <td>others</td>\n",
       "      <td>Telugu</td>\n",
       "      <td>NaN</td>\n",
       "      <td>London</td>\n",
       "      <td>United Kingdom</td>\n",
       "      <td>21.0</td>\n",
       "    </tr>\n",
       "    <tr>\n",
       "      <th>1</th>\n",
       "      <td>2</td>\n",
       "      <td>male</td>\n",
       "      <td>5'7\"</td>\n",
       "      <td>Jain</td>\n",
       "      <td>Shwetamber</td>\n",
       "      <td>Gujarati</td>\n",
       "      <td>Doctor / Healthcare Professional</td>\n",
       "      <td>Fairfax- VA</td>\n",
       "      <td>USA</td>\n",
       "      <td>32.0</td>\n",
       "    </tr>\n",
       "    <tr>\n",
       "      <th>2</th>\n",
       "      <td>3</td>\n",
       "      <td>male</td>\n",
       "      <td>5'7\"</td>\n",
       "      <td>Hindu</td>\n",
       "      <td>Brahmin</td>\n",
       "      <td>Hindi</td>\n",
       "      <td>Entrepreneurs / Business</td>\n",
       "      <td>Begusarai</td>\n",
       "      <td>India</td>\n",
       "      <td>32.0</td>\n",
       "    </tr>\n",
       "    <tr>\n",
       "      <th>3</th>\n",
       "      <td>4</td>\n",
       "      <td>female</td>\n",
       "      <td>5'0\"</td>\n",
       "      <td>Hindu</td>\n",
       "      <td>Thakur</td>\n",
       "      <td>Hindi</td>\n",
       "      <td>Architect</td>\n",
       "      <td>Mumbai</td>\n",
       "      <td>India</td>\n",
       "      <td>30.0</td>\n",
       "    </tr>\n",
       "    <tr>\n",
       "      <th>4</th>\n",
       "      <td>5</td>\n",
       "      <td>male</td>\n",
       "      <td>5'5\"</td>\n",
       "      <td>Christian</td>\n",
       "      <td>Born Again</td>\n",
       "      <td>Malayalam</td>\n",
       "      <td>Sales Professional / Marketing</td>\n",
       "      <td>Sulthan Bathery</td>\n",
       "      <td>India</td>\n",
       "      <td>30.0</td>\n",
       "    </tr>\n",
       "  </tbody>\n",
       "</table>\n",
       "</div>"
      ],
      "text/plain": [
       "   id  gender height   religion        caste mother_tongue  \\\n",
       "0   1  female   5'4\"        NaN       others        Telugu   \n",
       "1   2    male   5'7\"       Jain   Shwetamber      Gujarati   \n",
       "2   3    male   5'7\"      Hindu      Brahmin         Hindi   \n",
       "3   4  female   5'0\"      Hindu       Thakur         Hindi   \n",
       "4   5    male   5'5\"  Christian   Born Again     Malayalam   \n",
       "\n",
       "                         profession         location          country  \\\n",
       "0                               NaN           London   United Kingdom   \n",
       "1  Doctor / Healthcare Professional      Fairfax- VA              USA   \n",
       "2         Entrepreneurs / Business         Begusarai            India   \n",
       "3                         Architect           Mumbai            India   \n",
       "4    Sales Professional / Marketing  Sulthan Bathery            India   \n",
       "\n",
       "   age_of_marriage  \n",
       "0             21.0  \n",
       "1             32.0  \n",
       "2             32.0  \n",
       "3             30.0  \n",
       "4             30.0  "
      ]
     },
     "execution_count": 2,
     "metadata": {},
     "output_type": "execute_result"
    }
   ],
   "source": [
    "data = pd.read_csv('age_of_marriage_data.csv')\n",
    "data.head()"
   ]
  },
  {
   "cell_type": "code",
   "execution_count": 3,
   "id": "1666805e",
   "metadata": {},
   "outputs": [
    {
     "data": {
      "text/plain": [
       "(2567, 10)"
      ]
     },
     "execution_count": 3,
     "metadata": {},
     "output_type": "execute_result"
    }
   ],
   "source": [
    "data.shape"
   ]
  },
  {
   "cell_type": "code",
   "execution_count": 4,
   "id": "8424063a",
   "metadata": {},
   "outputs": [
    {
     "name": "stdout",
     "output_type": "stream",
     "text": [
      "<class 'pandas.core.frame.DataFrame'>\n",
      "RangeIndex: 2567 entries, 0 to 2566\n",
      "Data columns (total 10 columns):\n",
      " #   Column           Non-Null Count  Dtype  \n",
      "---  ------           --------------  -----  \n",
      " 0   id               2567 non-null   int64  \n",
      " 1   gender           2538 non-null   object \n",
      " 2   height           2449 non-null   object \n",
      " 3   religion         1932 non-null   object \n",
      " 4   caste            2425 non-null   object \n",
      " 5   mother_tongue    2403 non-null   object \n",
      " 6   profession       2237 non-null   object \n",
      " 7   location         2412 non-null   object \n",
      " 8   country          2551 non-null   object \n",
      " 9   age_of_marriage  2548 non-null   float64\n",
      "dtypes: float64(1), int64(1), object(8)\n",
      "memory usage: 200.7+ KB\n"
     ]
    }
   ],
   "source": [
    "data.info()"
   ]
  },
  {
   "cell_type": "code",
   "execution_count": 5,
   "id": "4e98bac6",
   "metadata": {},
   "outputs": [
    {
     "data": {
      "text/plain": [
       "id                   0\n",
       "gender              29\n",
       "height             118\n",
       "religion           635\n",
       "caste              142\n",
       "mother_tongue      164\n",
       "profession         330\n",
       "location           155\n",
       "country             16\n",
       "age_of_marriage     19\n",
       "dtype: int64"
      ]
     },
     "execution_count": 5,
     "metadata": {},
     "output_type": "execute_result"
    }
   ],
   "source": [
    "data.isnull().sum()"
   ]
  },
  {
   "cell_type": "code",
   "execution_count": 6,
   "id": "3d6d9852",
   "metadata": {},
   "outputs": [],
   "source": [
    "data['height_cms'] = data['height'].str.rstrip('\"').str.split(\"'\", expand=True) \\\n",
    "                            .astype(float).mul([30.48, 2.54]).sum(axis=1)"
   ]
  },
  {
   "cell_type": "code",
   "execution_count": 7,
   "id": "ac20af79",
   "metadata": {},
   "outputs": [
    {
     "data": {
      "text/html": [
       "<div>\n",
       "<style scoped>\n",
       "    .dataframe tbody tr th:only-of-type {\n",
       "        vertical-align: middle;\n",
       "    }\n",
       "\n",
       "    .dataframe tbody tr th {\n",
       "        vertical-align: top;\n",
       "    }\n",
       "\n",
       "    .dataframe thead th {\n",
       "        text-align: right;\n",
       "    }\n",
       "</style>\n",
       "<table border=\"1\" class=\"dataframe\">\n",
       "  <thead>\n",
       "    <tr style=\"text-align: right;\">\n",
       "      <th></th>\n",
       "      <th>gender</th>\n",
       "      <th>religion</th>\n",
       "      <th>caste</th>\n",
       "      <th>mother_tongue</th>\n",
       "      <th>country</th>\n",
       "      <th>age_of_marriage</th>\n",
       "      <th>height_cms</th>\n",
       "    </tr>\n",
       "  </thead>\n",
       "  <tbody>\n",
       "    <tr>\n",
       "      <th>0</th>\n",
       "      <td>female</td>\n",
       "      <td>NaN</td>\n",
       "      <td>others</td>\n",
       "      <td>Telugu</td>\n",
       "      <td>United Kingdom</td>\n",
       "      <td>21.0</td>\n",
       "      <td>162.56</td>\n",
       "    </tr>\n",
       "    <tr>\n",
       "      <th>1</th>\n",
       "      <td>male</td>\n",
       "      <td>Jain</td>\n",
       "      <td>Shwetamber</td>\n",
       "      <td>Gujarati</td>\n",
       "      <td>USA</td>\n",
       "      <td>32.0</td>\n",
       "      <td>170.18</td>\n",
       "    </tr>\n",
       "    <tr>\n",
       "      <th>2</th>\n",
       "      <td>male</td>\n",
       "      <td>Hindu</td>\n",
       "      <td>Brahmin</td>\n",
       "      <td>Hindi</td>\n",
       "      <td>India</td>\n",
       "      <td>32.0</td>\n",
       "      <td>170.18</td>\n",
       "    </tr>\n",
       "    <tr>\n",
       "      <th>3</th>\n",
       "      <td>female</td>\n",
       "      <td>Hindu</td>\n",
       "      <td>Thakur</td>\n",
       "      <td>Hindi</td>\n",
       "      <td>India</td>\n",
       "      <td>30.0</td>\n",
       "      <td>152.40</td>\n",
       "    </tr>\n",
       "    <tr>\n",
       "      <th>4</th>\n",
       "      <td>male</td>\n",
       "      <td>Christian</td>\n",
       "      <td>Born Again</td>\n",
       "      <td>Malayalam</td>\n",
       "      <td>India</td>\n",
       "      <td>30.0</td>\n",
       "      <td>165.10</td>\n",
       "    </tr>\n",
       "    <tr>\n",
       "      <th>...</th>\n",
       "      <td>...</td>\n",
       "      <td>...</td>\n",
       "      <td>...</td>\n",
       "      <td>...</td>\n",
       "      <td>...</td>\n",
       "      <td>...</td>\n",
       "      <td>...</td>\n",
       "    </tr>\n",
       "    <tr>\n",
       "      <th>2562</th>\n",
       "      <td>female</td>\n",
       "      <td>Hindu</td>\n",
       "      <td>Thakur</td>\n",
       "      <td>Hindi</td>\n",
       "      <td>India</td>\n",
       "      <td>27.0</td>\n",
       "      <td>160.02</td>\n",
       "    </tr>\n",
       "    <tr>\n",
       "      <th>2563</th>\n",
       "      <td>male</td>\n",
       "      <td>Hindu</td>\n",
       "      <td>Thakur</td>\n",
       "      <td>Hindi</td>\n",
       "      <td>Canada</td>\n",
       "      <td>31.0</td>\n",
       "      <td>180.34</td>\n",
       "    </tr>\n",
       "    <tr>\n",
       "      <th>2564</th>\n",
       "      <td>female</td>\n",
       "      <td>Hindu</td>\n",
       "      <td>Baishya</td>\n",
       "      <td>Bengali</td>\n",
       "      <td>India</td>\n",
       "      <td>28.0</td>\n",
       "      <td>160.02</td>\n",
       "    </tr>\n",
       "    <tr>\n",
       "      <th>2565</th>\n",
       "      <td>female</td>\n",
       "      <td>NaN</td>\n",
       "      <td>others</td>\n",
       "      <td>Telugu</td>\n",
       "      <td>India</td>\n",
       "      <td>26.0</td>\n",
       "      <td>149.86</td>\n",
       "    </tr>\n",
       "    <tr>\n",
       "      <th>2566</th>\n",
       "      <td>female</td>\n",
       "      <td>Christian</td>\n",
       "      <td>Marthoma</td>\n",
       "      <td>Malayalam</td>\n",
       "      <td>India</td>\n",
       "      <td>32.0</td>\n",
       "      <td>157.48</td>\n",
       "    </tr>\n",
       "  </tbody>\n",
       "</table>\n",
       "<p>2567 rows × 7 columns</p>\n",
       "</div>"
      ],
      "text/plain": [
       "      gender   religion        caste mother_tongue          country  \\\n",
       "0     female        NaN       others        Telugu   United Kingdom   \n",
       "1       male       Jain   Shwetamber      Gujarati              USA   \n",
       "2       male      Hindu      Brahmin         Hindi            India   \n",
       "3     female      Hindu       Thakur         Hindi            India   \n",
       "4       male  Christian   Born Again     Malayalam            India   \n",
       "...      ...        ...          ...           ...              ...   \n",
       "2562  female      Hindu       Thakur         Hindi            India   \n",
       "2563    male      Hindu       Thakur         Hindi           Canada   \n",
       "2564  female      Hindu      Baishya       Bengali            India   \n",
       "2565  female        NaN       others        Telugu            India   \n",
       "2566  female  Christian     Marthoma     Malayalam            India   \n",
       "\n",
       "      age_of_marriage  height_cms  \n",
       "0                21.0      162.56  \n",
       "1                32.0      170.18  \n",
       "2                32.0      170.18  \n",
       "3                30.0      152.40  \n",
       "4                30.0      165.10  \n",
       "...               ...         ...  \n",
       "2562             27.0      160.02  \n",
       "2563             31.0      180.34  \n",
       "2564             28.0      160.02  \n",
       "2565             26.0      149.86  \n",
       "2566             32.0      157.48  \n",
       "\n",
       "[2567 rows x 7 columns]"
      ]
     },
     "execution_count": 7,
     "metadata": {},
     "output_type": "execute_result"
    }
   ],
   "source": [
    "New_data = data.drop([\"height\",\"id\",\"profession\",\"location\"],axis=1)\n",
    "New_data"
   ]
  },
  {
   "cell_type": "code",
   "execution_count": 8,
   "id": "1059e6bc",
   "metadata": {},
   "outputs": [],
   "source": [
    "New_data.dropna(inplace=True)"
   ]
  },
  {
   "cell_type": "code",
   "execution_count": 9,
   "id": "af23c420",
   "metadata": {},
   "outputs": [
    {
     "data": {
      "text/plain": [
       "gender             0\n",
       "religion           0\n",
       "caste              0\n",
       "mother_tongue      0\n",
       "country            0\n",
       "age_of_marriage    0\n",
       "height_cms         0\n",
       "dtype: int64"
      ]
     },
     "execution_count": 9,
     "metadata": {},
     "output_type": "execute_result"
    }
   ],
   "source": [
    "New_data.isna().sum()"
   ]
  },
  {
   "cell_type": "code",
   "execution_count": 10,
   "id": "f9b79633",
   "metadata": {},
   "outputs": [
    {
     "data": {
      "text/plain": [
       "gender              object\n",
       "religion            object\n",
       "caste               object\n",
       "mother_tongue       object\n",
       "country             object\n",
       "age_of_marriage    float64\n",
       "height_cms         float64\n",
       "dtype: object"
      ]
     },
     "execution_count": 10,
     "metadata": {},
     "output_type": "execute_result"
    }
   ],
   "source": [
    "New_data.dtypes"
   ]
  },
  {
   "cell_type": "code",
   "execution_count": 11,
   "id": "c1f3d978",
   "metadata": {},
   "outputs": [],
   "source": [
    "# New_data[\"religion\"].nunique()         # 5\n",
    "# New_data[\"caste\"].nunique()            # 41\n",
    "# New_data[\"mother_tongue\"].nunique()    # 27\n",
    "# New_data[\"country\"].nunique()          # 22"
   ]
  },
  {
   "cell_type": "code",
   "execution_count": 12,
   "id": "f7c5bdb3",
   "metadata": {},
   "outputs": [],
   "source": [
    "def Encoding(List):\n",
    "    Dict = {}\n",
    "    values = 0\n",
    "    for keys in List:\n",
    "        Dict[keys] = values\n",
    "        values += 1\n",
    "    print(Dict)"
   ]
  },
  {
   "cell_type": "code",
   "execution_count": 13,
   "id": "89988d60",
   "metadata": {},
   "outputs": [
    {
     "name": "stdout",
     "output_type": "stream",
     "text": [
      "{'male': 0, 'female': 1}\n"
     ]
    }
   ],
   "source": [
    "gender_encoding = New_data[\"gender\"].unique().tolist()\n",
    "Encoding(gender_encoding)"
   ]
  },
  {
   "cell_type": "code",
   "execution_count": 14,
   "id": "e7dc5f0b",
   "metadata": {},
   "outputs": [],
   "source": [
    "New_data[\"gender\"] = New_data[\"gender\"].replace({'male': 0, 'female': 1})"
   ]
  },
  {
   "cell_type": "code",
   "execution_count": 15,
   "id": "fdc71dfa",
   "metadata": {},
   "outputs": [
    {
     "name": "stdout",
     "output_type": "stream",
     "text": [
      "{'Jain': 0, 'Hindu': 1, 'Christian': 2, 'Muslim': 3, 'Sikh': 4}\n"
     ]
    }
   ],
   "source": [
    "religion_encoding = New_data[\"religion\"].unique().tolist()\n",
    "Encoding(religion_encoding)"
   ]
  },
  {
   "cell_type": "code",
   "execution_count": 16,
   "id": "8f8b7455",
   "metadata": {},
   "outputs": [],
   "source": [
    "New_data[\"religion\"] = New_data[\"religion\"].replace({'Jain': 0, 'Hindu': 1, 'Christian': 2, 'Muslim': 3, 'Sikh': 4})"
   ]
  },
  {
   "cell_type": "code",
   "execution_count": 17,
   "id": "8d50c8e2",
   "metadata": {},
   "outputs": [
    {
     "name": "stdout",
     "output_type": "stream",
     "text": [
      "{' Shwetamber': 0, ' Brahmin': 1, ' Thakur': 2, ' Born Again': 3, ' Valmiki': 4, ' Rajput - Lodhi': 5, ' Bhatia': 6, ' Billava': 7, ' Vanniyar': 8, ' Agri': 9, ' Marthoma': 10, ' Ahom': 11, ' Baishnab': 12, ' Roman Catholic': 13, ' Lingayath': 14, ' Kalita': 15, ' Vaishnav': 16, ' Sahu': 17, ' Baishya': 18, ' Memon': 19, ' Agarwal': 20, ' Panchal': 21, ' Baidya': 22, ' Kaibarta': 23, ' Sindhi-Sakkhar': 24, ' Viswabrahmin': 25, ' Patel': 26, ' Scheduled Caste (SC)': 27, ' Kshatriya': 28, ' Ramdasia': 29, ' Khatri': 30, ' OBC - Barber/Naayee': 31, ' Baniya': 32, ' Goud': 33, ' Balija': 34, ' Arora': 35, ' Kayastha': 36, ' Gursikh': 37, ' Arya Vysya': 38, ' Bhandari': 39, ' Saini': 40}\n"
     ]
    }
   ],
   "source": [
    "caste_encoding = New_data[\"caste\"].unique().tolist()\n",
    "Encoding(caste_encoding)"
   ]
  },
  {
   "cell_type": "code",
   "execution_count": 18,
   "id": "de2fff3f",
   "metadata": {},
   "outputs": [],
   "source": [
    "New_data[\"caste\"] = New_data[\"caste\"].replace({' Shwetamber': 0, ' Brahmin': 1, ' Thakur': 2, ' Born Again': 3, \n",
    "                                               ' Valmiki': 4, ' Rajput - Lodhi': 5, ' Bhatia': 6, ' Billava': 7, \n",
    "                                               ' Vanniyar': 8, ' Agri': 9, ' Marthoma': 10, ' Ahom': 11, ' Baishnab': 12, \n",
    "                                               ' Roman Catholic': 13, ' Lingayath': 14, ' Kalita': 15, ' Vaishnav': 16, \n",
    "                                               ' Sahu': 17, ' Baishya': 18, ' Memon': 19, ' Agarwal': 20, ' Panchal': 21, \n",
    "                                               ' Baidya': 22, ' Kaibarta': 23, ' Sindhi-Sakkhar': 24, ' Viswabrahmin': 25,\n",
    "                                               ' Patel': 26, ' Scheduled Caste (SC)': 27, ' Kshatriya': 28, ' Ramdasia': 29,\n",
    "                                               ' Khatri': 30, ' OBC - Barber/Naayee': 31, ' Baniya': 32, ' Goud': 33,\n",
    "                                               ' Balija': 34, ' Arora': 35, ' Kayastha': 36, ' Gursikh': 37, ' Arya Vysya': 38,\n",
    "                                               ' Bhandari': 39, ' Saini': 40})"
   ]
  },
  {
   "cell_type": "code",
   "execution_count": 19,
   "id": "3a92fc2b",
   "metadata": {},
   "outputs": [
    {
     "name": "stdout",
     "output_type": "stream",
     "text": [
      "{'Gujarati': 0, 'Hindi': 1, 'Malayalam': 2, 'Punjabi': 3, 'Tulu': 4, 'Bengali': 5, 'Tamil': 6, 'Marathi': 7, 'Assamese': 8, 'Kannada': 9, 'Sindhi': 10, 'Telugu': 11, 'English': 12, 'Marwari': 13, 'Odia': 14, 'Konkani': 15, 'Chattisgarhi': 16, 'Kutchi': 17, 'Bhojpuri': 18, 'Urdu': 19, 'Nepali': 20, 'Haryanavi': 21, 'Other': 22, 'Rajasthani': 23, 'Manipuri': 24, 'Aka': 25, 'Kashmiri': 26}\n"
     ]
    }
   ],
   "source": [
    "mother_tongue_encoding = New_data[\"mother_tongue\"].unique().tolist()\n",
    "Encoding(mother_tongue_encoding)"
   ]
  },
  {
   "cell_type": "code",
   "execution_count": 20,
   "id": "c20e3b0b",
   "metadata": {},
   "outputs": [],
   "source": [
    "New_data[\"mother_tongue\"] = New_data[\"mother_tongue\"].replace({'Gujarati': 0, 'Hindi': 1, 'Malayalam': 2, 'Punjabi': 3,\n",
    "                                                               'Tulu': 4, 'Bengali': 5, 'Tamil': 6, 'Marathi': 7,\n",
    "                                                               'Assamese': 8, 'Kannada': 9, 'Sindhi': 10, 'Telugu': 11,\n",
    "                                                               'English': 12, 'Marwari': 13, 'Odia': 14, 'Konkani': 15,\n",
    "                                                               'Chattisgarhi': 16, 'Kutchi': 17, 'Bhojpuri': 18, 'Urdu': 19,\n",
    "                                                               'Nepali': 20, 'Haryanavi': 21, 'Other': 22, 'Rajasthani': 23,\n",
    "                                                               'Manipuri': 24, 'Aka': 25, 'Kashmiri': 26})"
   ]
  },
  {
   "cell_type": "code",
   "execution_count": 21,
   "id": "f0ed9f40",
   "metadata": {},
   "outputs": [
    {
     "name": "stdout",
     "output_type": "stream",
     "text": [
      "{' USA': 0, ' India': 1, ' Australia': 2, ' United Arab Emirates': 3, ' Canada': 4, ' Netherlands': 5, ' Qatar': 6, ' United Kingdom': 7, ' New Zealand': 8, ' Myanmar': 9, ' Malaysia': 10, ' Pakistan': 11, ' Bangladesh': 12, ' Kuwait': 13, ' Bahrain': 14, ' Ireland': 15, ' Oman': 16, ' Singapore': 17, ' Philippines': 18, ' Norway': 19, ' Germany': 20, ' South Africa': 21}\n"
     ]
    }
   ],
   "source": [
    "country_encoding = New_data[\"country\"].unique().tolist()\n",
    "Encoding(country_encoding)"
   ]
  },
  {
   "cell_type": "code",
   "execution_count": 22,
   "id": "532367bb",
   "metadata": {},
   "outputs": [],
   "source": [
    "New_data[\"country\"] = New_data[\"country\"].replace({' USA': 0, ' India': 1, ' Australia': 2, ' United Arab Emirates': 3,\n",
    "                                                   ' Canada': 4, ' Netherlands': 5, ' Qatar': 6, ' United Kingdom': 7,\n",
    "                                                   ' New Zealand': 8, ' Myanmar': 9, ' Malaysia': 10, ' Pakistan': 11,\n",
    "                                                   ' Bangladesh': 12, ' Kuwait': 13, ' Bahrain': 14, ' Ireland': 15,\n",
    "                                                   ' Oman': 16, ' Singapore': 17, ' Philippines': 18, ' Norway': 19,\n",
    "                                                   ' Germany': 20, ' South Africa': 21})"
   ]
  },
  {
   "cell_type": "code",
   "execution_count": 23,
   "id": "9f79da70",
   "metadata": {},
   "outputs": [
    {
     "data": {
      "text/html": [
       "<div>\n",
       "<style scoped>\n",
       "    .dataframe tbody tr th:only-of-type {\n",
       "        vertical-align: middle;\n",
       "    }\n",
       "\n",
       "    .dataframe tbody tr th {\n",
       "        vertical-align: top;\n",
       "    }\n",
       "\n",
       "    .dataframe thead th {\n",
       "        text-align: right;\n",
       "    }\n",
       "</style>\n",
       "<table border=\"1\" class=\"dataframe\">\n",
       "  <thead>\n",
       "    <tr style=\"text-align: right;\">\n",
       "      <th></th>\n",
       "      <th>gender</th>\n",
       "      <th>religion</th>\n",
       "      <th>caste</th>\n",
       "      <th>mother_tongue</th>\n",
       "      <th>country</th>\n",
       "      <th>age_of_marriage</th>\n",
       "      <th>height_cms</th>\n",
       "    </tr>\n",
       "  </thead>\n",
       "  <tbody>\n",
       "    <tr>\n",
       "      <th>1</th>\n",
       "      <td>0</td>\n",
       "      <td>0</td>\n",
       "      <td>0</td>\n",
       "      <td>0</td>\n",
       "      <td>0</td>\n",
       "      <td>32.0</td>\n",
       "      <td>170.18</td>\n",
       "    </tr>\n",
       "    <tr>\n",
       "      <th>2</th>\n",
       "      <td>0</td>\n",
       "      <td>1</td>\n",
       "      <td>1</td>\n",
       "      <td>1</td>\n",
       "      <td>1</td>\n",
       "      <td>32.0</td>\n",
       "      <td>170.18</td>\n",
       "    </tr>\n",
       "    <tr>\n",
       "      <th>3</th>\n",
       "      <td>1</td>\n",
       "      <td>1</td>\n",
       "      <td>2</td>\n",
       "      <td>1</td>\n",
       "      <td>1</td>\n",
       "      <td>30.0</td>\n",
       "      <td>152.40</td>\n",
       "    </tr>\n",
       "    <tr>\n",
       "      <th>4</th>\n",
       "      <td>0</td>\n",
       "      <td>2</td>\n",
       "      <td>3</td>\n",
       "      <td>2</td>\n",
       "      <td>1</td>\n",
       "      <td>30.0</td>\n",
       "      <td>165.10</td>\n",
       "    </tr>\n",
       "    <tr>\n",
       "      <th>5</th>\n",
       "      <td>0</td>\n",
       "      <td>1</td>\n",
       "      <td>4</td>\n",
       "      <td>1</td>\n",
       "      <td>1</td>\n",
       "      <td>29.0</td>\n",
       "      <td>165.10</td>\n",
       "    </tr>\n",
       "    <tr>\n",
       "      <th>...</th>\n",
       "      <td>...</td>\n",
       "      <td>...</td>\n",
       "      <td>...</td>\n",
       "      <td>...</td>\n",
       "      <td>...</td>\n",
       "      <td>...</td>\n",
       "      <td>...</td>\n",
       "    </tr>\n",
       "    <tr>\n",
       "      <th>2561</th>\n",
       "      <td>0</td>\n",
       "      <td>1</td>\n",
       "      <td>28</td>\n",
       "      <td>14</td>\n",
       "      <td>1</td>\n",
       "      <td>30.0</td>\n",
       "      <td>180.34</td>\n",
       "    </tr>\n",
       "    <tr>\n",
       "      <th>2562</th>\n",
       "      <td>1</td>\n",
       "      <td>1</td>\n",
       "      <td>2</td>\n",
       "      <td>1</td>\n",
       "      <td>1</td>\n",
       "      <td>27.0</td>\n",
       "      <td>160.02</td>\n",
       "    </tr>\n",
       "    <tr>\n",
       "      <th>2563</th>\n",
       "      <td>0</td>\n",
       "      <td>1</td>\n",
       "      <td>2</td>\n",
       "      <td>1</td>\n",
       "      <td>4</td>\n",
       "      <td>31.0</td>\n",
       "      <td>180.34</td>\n",
       "    </tr>\n",
       "    <tr>\n",
       "      <th>2564</th>\n",
       "      <td>1</td>\n",
       "      <td>1</td>\n",
       "      <td>18</td>\n",
       "      <td>5</td>\n",
       "      <td>1</td>\n",
       "      <td>28.0</td>\n",
       "      <td>160.02</td>\n",
       "    </tr>\n",
       "    <tr>\n",
       "      <th>2566</th>\n",
       "      <td>1</td>\n",
       "      <td>2</td>\n",
       "      <td>10</td>\n",
       "      <td>2</td>\n",
       "      <td>1</td>\n",
       "      <td>32.0</td>\n",
       "      <td>157.48</td>\n",
       "    </tr>\n",
       "  </tbody>\n",
       "</table>\n",
       "<p>1932 rows × 7 columns</p>\n",
       "</div>"
      ],
      "text/plain": [
       "      gender  religion  caste  mother_tongue  country  age_of_marriage  \\\n",
       "1          0         0      0              0        0             32.0   \n",
       "2          0         1      1              1        1             32.0   \n",
       "3          1         1      2              1        1             30.0   \n",
       "4          0         2      3              2        1             30.0   \n",
       "5          0         1      4              1        1             29.0   \n",
       "...      ...       ...    ...            ...      ...              ...   \n",
       "2561       0         1     28             14        1             30.0   \n",
       "2562       1         1      2              1        1             27.0   \n",
       "2563       0         1      2              1        4             31.0   \n",
       "2564       1         1     18              5        1             28.0   \n",
       "2566       1         2     10              2        1             32.0   \n",
       "\n",
       "      height_cms  \n",
       "1         170.18  \n",
       "2         170.18  \n",
       "3         152.40  \n",
       "4         165.10  \n",
       "5         165.10  \n",
       "...          ...  \n",
       "2561      180.34  \n",
       "2562      160.02  \n",
       "2563      180.34  \n",
       "2564      160.02  \n",
       "2566      157.48  \n",
       "\n",
       "[1932 rows x 7 columns]"
      ]
     },
     "execution_count": 23,
     "metadata": {},
     "output_type": "execute_result"
    }
   ],
   "source": [
    "New_data"
   ]
  },
  {
   "cell_type": "code",
   "execution_count": 24,
   "id": "847c6385",
   "metadata": {},
   "outputs": [],
   "source": [
    "X = New_data.drop(\"age_of_marriage\",axis=1)\n",
    "Y = New_data[\"age_of_marriage\"]"
   ]
  },
  {
   "cell_type": "code",
   "execution_count": 25,
   "id": "68b8d65a",
   "metadata": {},
   "outputs": [],
   "source": [
    "from sklearn.model_selection import train_test_split\n",
    "x_train,x_test,y_train,y_test = train_test_split(X,Y,test_size=0.2,random_state=45)"
   ]
  },
  {
   "cell_type": "code",
   "execution_count": 26,
   "id": "3500a323",
   "metadata": {},
   "outputs": [
    {
     "data": {
      "text/plain": [
       "LinearRegression()"
      ]
     },
     "execution_count": 26,
     "metadata": {},
     "output_type": "execute_result"
    }
   ],
   "source": [
    "linear_model = LinearRegression() # GDA\n",
    "linear_model.fit(x_train,y_train)"
   ]
  },
  {
   "cell_type": "code",
   "execution_count": 27,
   "id": "ca1c27d3",
   "metadata": {},
   "outputs": [
    {
     "name": "stdout",
     "output_type": "stream",
     "text": [
      "0.13250507949602275\n",
      "0.1736903179773558\n"
     ]
    }
   ],
   "source": [
    "train_score = linear_model.score(x_train,y_train)\n",
    "print(train_score)\n",
    "\n",
    "test_score = linear_model.score(x_test,y_test)\n",
    "print(test_score)"
   ]
  },
  {
   "cell_type": "code",
   "execution_count": 28,
   "id": "e04a7e3b",
   "metadata": {},
   "outputs": [
    {
     "data": {
      "text/plain": [
       "KNeighborsRegressor()"
      ]
     },
     "execution_count": 28,
     "metadata": {},
     "output_type": "execute_result"
    }
   ],
   "source": [
    "knn_model = KNeighborsRegressor()\n",
    "knn_model.fit(x_train,y_train)  ## lazy learner"
   ]
  },
  {
   "cell_type": "code",
   "execution_count": 29,
   "id": "8635d31a",
   "metadata": {},
   "outputs": [
    {
     "name": "stdout",
     "output_type": "stream",
     "text": [
      "0.5720362204310105\n",
      "0.3691130853460499\n"
     ]
    }
   ],
   "source": [
    "train_score = knn_model.score(x_train,y_train)\n",
    "print(train_score)\n",
    "\n",
    "test_score = knn_model.score(x_test,y_test)\n",
    "print(test_score)"
   ]
  },
  {
   "cell_type": "code",
   "execution_count": 30,
   "id": "57082297",
   "metadata": {},
   "outputs": [
    {
     "data": {
      "text/html": [
       "<div>\n",
       "<style scoped>\n",
       "    .dataframe tbody tr th:only-of-type {\n",
       "        vertical-align: middle;\n",
       "    }\n",
       "\n",
       "    .dataframe tbody tr th {\n",
       "        vertical-align: top;\n",
       "    }\n",
       "\n",
       "    .dataframe thead th {\n",
       "        text-align: right;\n",
       "    }\n",
       "</style>\n",
       "<table border=\"1\" class=\"dataframe\">\n",
       "  <thead>\n",
       "    <tr style=\"text-align: right;\">\n",
       "      <th></th>\n",
       "      <th>gender</th>\n",
       "      <th>religion</th>\n",
       "      <th>caste</th>\n",
       "      <th>mother_tongue</th>\n",
       "      <th>country</th>\n",
       "      <th>height_cms</th>\n",
       "    </tr>\n",
       "  </thead>\n",
       "  <tbody>\n",
       "    <tr>\n",
       "      <th>0</th>\n",
       "      <td>0.0</td>\n",
       "      <td>0.00</td>\n",
       "      <td>0.000</td>\n",
       "      <td>0.000000</td>\n",
       "      <td>0.000000</td>\n",
       "      <td>0.451613</td>\n",
       "    </tr>\n",
       "    <tr>\n",
       "      <th>1</th>\n",
       "      <td>0.0</td>\n",
       "      <td>0.25</td>\n",
       "      <td>0.025</td>\n",
       "      <td>0.038462</td>\n",
       "      <td>0.047619</td>\n",
       "      <td>0.451613</td>\n",
       "    </tr>\n",
       "    <tr>\n",
       "      <th>2</th>\n",
       "      <td>1.0</td>\n",
       "      <td>0.25</td>\n",
       "      <td>0.050</td>\n",
       "      <td>0.038462</td>\n",
       "      <td>0.047619</td>\n",
       "      <td>0.225806</td>\n",
       "    </tr>\n",
       "    <tr>\n",
       "      <th>3</th>\n",
       "      <td>0.0</td>\n",
       "      <td>0.50</td>\n",
       "      <td>0.075</td>\n",
       "      <td>0.076923</td>\n",
       "      <td>0.047619</td>\n",
       "      <td>0.387097</td>\n",
       "    </tr>\n",
       "    <tr>\n",
       "      <th>4</th>\n",
       "      <td>0.0</td>\n",
       "      <td>0.25</td>\n",
       "      <td>0.100</td>\n",
       "      <td>0.038462</td>\n",
       "      <td>0.047619</td>\n",
       "      <td>0.387097</td>\n",
       "    </tr>\n",
       "    <tr>\n",
       "      <th>...</th>\n",
       "      <td>...</td>\n",
       "      <td>...</td>\n",
       "      <td>...</td>\n",
       "      <td>...</td>\n",
       "      <td>...</td>\n",
       "      <td>...</td>\n",
       "    </tr>\n",
       "    <tr>\n",
       "      <th>1927</th>\n",
       "      <td>0.0</td>\n",
       "      <td>0.25</td>\n",
       "      <td>0.700</td>\n",
       "      <td>0.538462</td>\n",
       "      <td>0.047619</td>\n",
       "      <td>0.580645</td>\n",
       "    </tr>\n",
       "    <tr>\n",
       "      <th>1928</th>\n",
       "      <td>1.0</td>\n",
       "      <td>0.25</td>\n",
       "      <td>0.050</td>\n",
       "      <td>0.038462</td>\n",
       "      <td>0.047619</td>\n",
       "      <td>0.322581</td>\n",
       "    </tr>\n",
       "    <tr>\n",
       "      <th>1929</th>\n",
       "      <td>0.0</td>\n",
       "      <td>0.25</td>\n",
       "      <td>0.050</td>\n",
       "      <td>0.038462</td>\n",
       "      <td>0.190476</td>\n",
       "      <td>0.580645</td>\n",
       "    </tr>\n",
       "    <tr>\n",
       "      <th>1930</th>\n",
       "      <td>1.0</td>\n",
       "      <td>0.25</td>\n",
       "      <td>0.450</td>\n",
       "      <td>0.192308</td>\n",
       "      <td>0.047619</td>\n",
       "      <td>0.322581</td>\n",
       "    </tr>\n",
       "    <tr>\n",
       "      <th>1931</th>\n",
       "      <td>1.0</td>\n",
       "      <td>0.50</td>\n",
       "      <td>0.250</td>\n",
       "      <td>0.076923</td>\n",
       "      <td>0.047619</td>\n",
       "      <td>0.290323</td>\n",
       "    </tr>\n",
       "  </tbody>\n",
       "</table>\n",
       "<p>1932 rows × 6 columns</p>\n",
       "</div>"
      ],
      "text/plain": [
       "      gender  religion  caste  mother_tongue   country  height_cms\n",
       "0        0.0      0.00  0.000       0.000000  0.000000    0.451613\n",
       "1        0.0      0.25  0.025       0.038462  0.047619    0.451613\n",
       "2        1.0      0.25  0.050       0.038462  0.047619    0.225806\n",
       "3        0.0      0.50  0.075       0.076923  0.047619    0.387097\n",
       "4        0.0      0.25  0.100       0.038462  0.047619    0.387097\n",
       "...      ...       ...    ...            ...       ...         ...\n",
       "1927     0.0      0.25  0.700       0.538462  0.047619    0.580645\n",
       "1928     1.0      0.25  0.050       0.038462  0.047619    0.322581\n",
       "1929     0.0      0.25  0.050       0.038462  0.190476    0.580645\n",
       "1930     1.0      0.25  0.450       0.192308  0.047619    0.322581\n",
       "1931     1.0      0.50  0.250       0.076923  0.047619    0.290323\n",
       "\n",
       "[1932 rows x 6 columns]"
      ]
     },
     "execution_count": 30,
     "metadata": {},
     "output_type": "execute_result"
    }
   ],
   "source": [
    "scaler = MinMaxScaler()\n",
    "arr = scaler.fit_transform(X)\n",
    "x_scale = pd.DataFrame(arr, columns = X.columns)\n",
    "x_scale"
   ]
  },
  {
   "cell_type": "code",
   "execution_count": 31,
   "id": "519b8f67",
   "metadata": {},
   "outputs": [],
   "source": [
    "x_scale_train,x_scale_test, y_train, y_test = train_test_split(x_scale,Y, test_size=0.2, random_state=17)"
   ]
  },
  {
   "cell_type": "code",
   "execution_count": 32,
   "id": "b7e2b468",
   "metadata": {},
   "outputs": [
    {
     "name": "stdout",
     "output_type": "stream",
     "text": [
      "0.6690721701185272\n",
      "0.4592713757568784\n"
     ]
    }
   ],
   "source": [
    "knn_model = KNeighborsRegressor()\n",
    "knn_model.fit(x_scale_train,y_train)  ## lazy learner\n",
    "\n",
    "train_score = knn_model.score(x_scale_train,y_train)\n",
    "print(train_score)\n",
    "\n",
    "test_score = knn_model.score(x_scale_test,y_test)\n",
    "print(test_score)"
   ]
  },
  {
   "cell_type": "code",
   "execution_count": 33,
   "id": "d7c6b5df",
   "metadata": {},
   "outputs": [],
   "source": [
    "dict_file = {\"Column_Names\":X.columns.tolist(),\n",
    "             \"gender\":{'male': 0, 'female': 1},\n",
    "             \"religion\":{'Jain': 0, 'Hindu': 1, 'Christian': 2, 'Muslim': 3, 'Sikh': 4},\n",
    "             \"caste\":{' Shwetamber': 0, ' Brahmin': 1, ' Thakur': 2, ' Born Again': 3,' Valmiki': 4, ' Rajput - Lodhi': 5,\n",
    "                      ' Bhatia': 6, ' Billava': 7,' Vanniyar': 8, ' Agri': 9, ' Marthoma': 10, ' Ahom': 11, ' Baishnab': 12,\n",
    "                      ' Roman Catholic': 13, ' Lingayath': 14, ' Kalita': 15, ' Vaishnav': 16,' Sahu': 17, ' Baishya': 18,\n",
    "                      ' Memon': 19, ' Agarwal': 20, ' Panchal': 21,' Baidya': 22, ' Kaibarta': 23, ' Sindhi-Sakkhar': 24,\n",
    "                      ' Viswabrahmin': 25,' Patel': 26, ' Scheduled Caste (SC)': 27, ' Kshatriya': 28, ' Ramdasia': 29,\n",
    "                      ' Khatri': 30, ' OBC - Barber/Naayee': 31, ' Baniya': 32, ' Goud': 33,' Balija': 34, ' Arora': 35,\n",
    "                      ' Kayastha': 36, ' Gursikh': 37, ' Arya Vysya': 38,' Bhandari': 39, ' Saini': 40},\n",
    "             \"mother_tongue\":{'Gujarati': 0, 'Hindi': 1, 'Malayalam': 2, 'Punjabi': 3,'Tulu': 4, 'Bengali': 5, 'Tamil': 6,\n",
    "                               'Marathi': 7,'Assamese': 8, 'Kannada': 9, 'Sindhi': 10, 'Telugu': 11,'English': 12, \n",
    "                               'Marwari': 13, 'Odia': 14, 'Konkani': 15,'Chattisgarhi': 16, 'Kutchi': 17, 'Bhojpuri': 18,\n",
    "                               'Urdu': 19,'Nepali': 20, 'Haryanavi': 21, 'Other': 22, 'Rajasthani': 23,'Manipuri': 24,\n",
    "                               'Aka': 25, 'Kashmiri': 26},\n",
    "             \"country\":{' USA': 0, ' India': 1, ' Australia': 2, ' United Arab Emirates': 3,' Canada': 4, ' Netherlands': 5,\n",
    "                        ' Qatar': 6, ' United Kingdom': 7,' New Zealand': 8, ' Myanmar': 9, ' Malaysia': 10, ' Pakistan': 11,\n",
    "                        ' Bangladesh': 12, ' Kuwait': 13, ' Bahrain': 14, ' Ireland': 15,' Oman': 16, ' Singapore': 17,\n",
    "                        ' Philippines': 18, ' Norway': 19,' Germany': 20, ' South Africa': 21}\n",
    "            }\n",
    "\n",
    "with open(\"dict_file.json\",\"w\") as file:\n",
    "    json.dump(dict_file,file)"
   ]
  },
  {
   "cell_type": "code",
   "execution_count": 34,
   "id": "8cff5fce",
   "metadata": {},
   "outputs": [],
   "source": [
    "# gender=\"male\"\n",
    "# religion=\"Hindu\"\n",
    "# caste=\"Brahmin\"\n",
    "# mother_tongue=\"Marathi\"\n",
    "# country=\"India\"\n",
    "# height_cms=157.48\n",
    "\n",
    "# user_data = np.zeros(len(X.columns))\n",
    "# user_data[0] = gender\n",
    "# user_data[1] = religion\n",
    "# user_data[2] = caste\n",
    "# user_data[3] = mother_tongue\n",
    "# user_data[4] = country\n",
    "# user_data[5] = height_cms      \n",
    "\n",
    "# user_data_scale = scaler.transform([user_data])\n",
    "# print(user_data_scale)\n",
    "\n",
    "# result = knn_model.predict(user_data_scale)[0]\n",
    "# result"
   ]
  },
  {
   "cell_type": "code",
   "execution_count": 35,
   "id": "189e4e87",
   "metadata": {},
   "outputs": [],
   "source": [
    "# gender=\"male\"               --> 0\n",
    "# religion=\"Hindu\"            --> 1\n",
    "# caste=\"Brahmin\"             --> 1\n",
    "# mother_tongue=\"Marathi\"     --> 7\n",
    "# country=\"India\"             --> 1\n",
    "# height_cms=157.48           --> 157.48"
   ]
  },
  {
   "cell_type": "code",
   "execution_count": 36,
   "id": "a69be0f5",
   "metadata": {},
   "outputs": [],
   "source": [
    "user_data = np.array([0,1,1,7,1,157.48])"
   ]
  },
  {
   "cell_type": "code",
   "execution_count": 37,
   "id": "630cef83",
   "metadata": {},
   "outputs": [
    {
     "name": "stdout",
     "output_type": "stream",
     "text": [
      "[[0.         0.25       0.025      0.26923077 0.04761905 0.29032258]]\n",
      "Age = 32.2\n"
     ]
    },
    {
     "name": "stderr",
     "output_type": "stream",
     "text": [
      "C:\\Users\\Girish\\anaconda3\\lib\\site-packages\\sklearn\\base.py:450: UserWarning: X does not have valid feature names, but MinMaxScaler was fitted with feature names\n",
      "  warnings.warn(\n",
      "C:\\Users\\Girish\\anaconda3\\lib\\site-packages\\sklearn\\base.py:450: UserWarning: X does not have valid feature names, but KNeighborsRegressor was fitted with feature names\n",
      "  warnings.warn(\n"
     ]
    }
   ],
   "source": [
    "user_data_scale = scaler.transform([user_data])\n",
    "print(user_data_scale)\n",
    "\n",
    "result = knn_model.predict(user_data_scale)[0]\n",
    "print(f\"Age = {result}\")"
   ]
  },
  {
   "cell_type": "code",
   "execution_count": 38,
   "id": "9471d5e0",
   "metadata": {},
   "outputs": [],
   "source": [
    "with open('scaler.pkl','wb') as file: \n",
    "    pickle.dump(scaler,file)"
   ]
  },
  {
   "cell_type": "code",
   "execution_count": 39,
   "id": "19db2c58",
   "metadata": {},
   "outputs": [],
   "source": [
    "with open('marriage_age_model.pkl','wb') as file: \n",
    "    pickle.dump(knn_model,file)"
   ]
  }
 ],
 "metadata": {
  "kernelspec": {
   "display_name": "Python 3 (ipykernel)",
   "language": "python",
   "name": "python3"
  },
  "language_info": {
   "codemirror_mode": {
    "name": "ipython",
    "version": 3
   },
   "file_extension": ".py",
   "mimetype": "text/x-python",
   "name": "python",
   "nbconvert_exporter": "python",
   "pygments_lexer": "ipython3",
   "version": "3.8.12"
  }
 },
 "nbformat": 4,
 "nbformat_minor": 5
}
